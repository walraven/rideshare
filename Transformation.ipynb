{
 "cells": [
  {
   "cell_type": "markdown",
   "metadata": {},
   "source": [
    "# How much does an Uber driver earn?\n",
    "-Taylor Walraven\n",
    "\n",
    "I drove for Uber from June 2019 right up until the president declared a national emergency. For my own safety, I elected to stop. I was fortunate to have worked a nearly-full-time job through September 2019, so I was approved for unemployment without delay after the CARES Act was passed. The money from \"regular\" unemployment, supplemented by pandemic unemployment assistance has enabled me to work on data science / analysis projects while searching for a job in data.\n",
    "\n",
    "In March, Uber offered 2 weeks pay if drivers produced a doctor's note recommending they self-isolate. I did this and was compensated $583.80 a few weeks after submitting documentation. These payments were reported to be an amount nearly equivalent to two weeks of pay determined by the past 6 months of driving, but later it was announced that different markets had maximum amounts paid. \n",
    "\n",
    "Houston, Texas, I felt, was a pretty good market for rideshare. I felt that the amount I was capable of earning as an Uber driver was a suitable one for the work I was doing. However, I wondered if $583.80 really was two weeks' worth of earnings or if it was capped by the market maximum amount. I figured I could use data analysis to find out for sure. Not only that, but I could know definitively the answer to an extremely common question: \"How much do you make?\" \n",
    "\n",
    "I'll use these tools in my analysis:"
   ]
  },
  {
   "cell_type": "code",
   "execution_count": 1,
   "metadata": {},
   "outputs": [],
   "source": [
    "#imports \n",
    "import numpy as np\n",
    "import pandas as pd\n",
    "import matplotlib\n",
    "import matplotlib.pyplot as plt\n",
    "import datetime as dt"
   ]
  },
  {
   "cell_type": "markdown",
   "metadata": {},
   "source": [
    "## Data Collection\n",
    "\n",
    "First, I needed to acquire the data for my trips. Uber makes this fairly simple. Log in to drivers.uber.com in a web browser and, after going through 2-factor authentication, one can view his earnings statements or download them as csv files. An earnings statement is generated once for every cash-out transaction, whether it is initiated at-will by the driver, or automatically at approximately 4 AM on Monday morning.\n",
    "\n",
    "# TODO: \n",
    "# 1. Automate the process of downloading the csv files from the Uber website\n",
    "# 2. Create an anonymous id unique to each driver"
   ]
  },
  {
   "cell_type": "code",
   "execution_count": 2,
   "metadata": {},
   "outputs": [],
   "source": [
    "#get file names from data directory\n",
    "months = !ls data/earnings\n",
    "files = []\n",
    "for i in np.arange(0,len(months)):\n",
    "    file_list = !ls data/earnings/{months[i]}\n",
    "    for filename in file_list:\n",
    "        files.append(f'data/earnings/{months[i]}/{filename}')"
   ]
  },
  {
   "cell_type": "markdown",
   "metadata": {},
   "source": [
    "## Data Transformation\n",
    "\n",
    "Data almost always must be reformatted or transformed in preparation for its application or analysis. I'll take a few steps to do this below and provide some explanation."
   ]
  },
  {
   "cell_type": "code",
   "execution_count": 3,
   "metadata": {},
   "outputs": [],
   "source": [
    "def trim_columns(df):\n",
    "    #remove extraneous columns, including those with 0 non-null values\n",
    "    return df.drop(columns=['Driver Name', 'Phone Number', 'Email', \n",
    "                       'Other Promotions', 'Instant Pay Fees',\n",
    "                       'Quest Promotion', 'Flex Pay Fee',\n",
    "                       'Consecutive Trips Promotion'])"
   ]
  },
  {
   "cell_type": "code",
   "execution_count": 4,
   "metadata": {},
   "outputs": [],
   "source": [
    "def make_numeric(df):\n",
    "    #remove dollar signs from text and change to numbers (floats are best for currency)\n",
    "    for col in df.columns[np.arange(3, len(df.columns))]:\n",
    "        df[col] = df[col].str.replace(\"$\",\"\").astype(float)\n",
    "\n",
    "    #set all NaN's to zero\n",
    "    return df.fillna(0)"
   ]
  },
  {
   "cell_type": "code",
   "execution_count": 5,
   "metadata": {},
   "outputs": [],
   "source": [
    "def combine_tips(df):\n",
    "    #check for trip id's that appear on more than 1 row and assemble a list of them\n",
    "    counts = df['Trip ID'].value_counts() > 1\n",
    "    multirow_ids = list(counts.loc[counts == True].index)\n",
    "\n",
    "    #rows with matching trip ids can be added together; sometimes a tip is paid separately\n",
    "    combined_trips = []\n",
    "    for trip_id in multirow_ids:\n",
    "        combined_trips.append(df.loc[df['Trip ID'] == trip_id].sum())\n",
    "\n",
    "    #summing text fields as above combines them, so we'll lop off the second halves\n",
    "    for trip in range(0,len(combined_trips)):\n",
    "        for col in range(0,3): #trip id, date/time, and type\n",
    "            field_length = int(len(combined_trips[trip][col])/2)\n",
    "            new_val = combined_trips[trip][col][0:field_length]\n",
    "            combined_trips[trip][col] = new_val\n",
    "\n",
    "    #create a dataframe of our newly combined trip rows\n",
    "    tips_df = pd.DataFrame(data=combined_trips)\n",
    "\n",
    "    #Trip ID is an effective index, we'll use it to make room for our tipped trips\n",
    "    df.set_index('Trip ID', inplace=True)\n",
    "    df.drop(labels=multirow_ids, inplace=True)\n",
    "\n",
    "    #combine tipped and non-tipped\n",
    "    tips_df.set_index('Trip ID', inplace=True)\n",
    "    return pd.concat([df,tips_df])"
   ]
  },
  {
   "cell_type": "code",
   "execution_count": 6,
   "metadata": {},
   "outputs": [],
   "source": [
    "def format_dates(df):\n",
    "    #convert to datetime objects\n",
    "    df['Date/Time'] = pd.to_datetime(df['Date/Time'])\n",
    "    return df"
   ]
  },
  {
   "cell_type": "code",
   "execution_count": 7,
   "metadata": {},
   "outputs": [],
   "source": [
    "def transform_data(df):\n",
    "    #combine the above functions into one\n",
    "    return format_dates(combine_tips(make_numeric(trim_columns(df))))"
   ]
  },
  {
   "cell_type": "code",
   "execution_count": 8,
   "metadata": {},
   "outputs": [
    {
     "name": "stdout",
     "output_type": "stream",
     "text": [
      "2020-08-08 21:22:30.499511\n",
      "2020-08-08 21:22:32.445867\n"
     ]
    }
   ],
   "source": [
    "#read and transform trip data\n",
    "print(dt.datetime.now())\n",
    "trips_df = transform_data(pd.concat([pd.read_csv(file) for file in files]))\n",
    "print(dt.datetime.now())"
   ]
  },
  {
   "cell_type": "code",
   "execution_count": 9,
   "metadata": {},
   "outputs": [
    {
     "name": "stdout",
     "output_type": "stream",
     "text": [
      "<class 'pandas.core.frame.DataFrame'>\n",
      "Index: 1113 entries, 9fad003a-9907-496a-8cf3-5c1d0fe7a8d9 to 20969ca1-065e-4a99-b17c-f760e243c69a\n",
      "Data columns (total 19 columns):\n",
      " #   Column               Non-Null Count  Dtype         \n",
      "---  ------               --------------  -----         \n",
      " 0   Date/Time            1113 non-null   datetime64[ns]\n",
      " 1   Type                 1113 non-null   object        \n",
      " 2   Base Fare            1113 non-null   float64       \n",
      " 3   Distance             1113 non-null   float64       \n",
      " 4   Time                 1113 non-null   float64       \n",
      " 5   Min Fare Supplement  1113 non-null   float64       \n",
      " 6   Pickup Fee           1113 non-null   float64       \n",
      " 7   Dropoff Fee          1113 non-null   float64       \n",
      " 8   Tip                  1113 non-null   float64       \n",
      " 9   Optional Insurance   1113 non-null   float64       \n",
      " 10  Total                1113 non-null   float64       \n",
      " 11  Toll                 1113 non-null   float64       \n",
      " 12  Wait Time            1113 non-null   float64       \n",
      " 13  Cancellation         1113 non-null   float64       \n",
      " 14  Surge                1113 non-null   float64       \n",
      " 15  Boost                1113 non-null   float64       \n",
      " 16  Long Pickup Fee      1113 non-null   float64       \n",
      " 17  Share Adjustment     1113 non-null   float64       \n",
      " 18  Fare Adjustment      1113 non-null   float64       \n",
      "dtypes: datetime64[ns](1), float64(17), object(1)\n",
      "memory usage: 173.9+ KB\n"
     ]
    }
   ],
   "source": [
    "trips_df.info()"
   ]
  },
  {
   "cell_type": "code",
   "execution_count": 10,
   "metadata": {},
   "outputs": [
    {
     "data": {
      "text/html": [
       "<div>\n",
       "<style scoped>\n",
       "    .dataframe tbody tr th:only-of-type {\n",
       "        vertical-align: middle;\n",
       "    }\n",
       "\n",
       "    .dataframe tbody tr th {\n",
       "        vertical-align: top;\n",
       "    }\n",
       "\n",
       "    .dataframe thead th {\n",
       "        text-align: right;\n",
       "    }\n",
       "</style>\n",
       "<table border=\"1\" class=\"dataframe\">\n",
       "  <thead>\n",
       "    <tr style=\"text-align: right;\">\n",
       "      <th></th>\n",
       "      <th>Date/Time</th>\n",
       "      <th>Type</th>\n",
       "      <th>Base Fare</th>\n",
       "      <th>Distance</th>\n",
       "      <th>Time</th>\n",
       "      <th>Min Fare Supplement</th>\n",
       "      <th>Pickup Fee</th>\n",
       "      <th>Dropoff Fee</th>\n",
       "      <th>Tip</th>\n",
       "      <th>Optional Insurance</th>\n",
       "      <th>Total</th>\n",
       "      <th>Toll</th>\n",
       "      <th>Wait Time</th>\n",
       "      <th>Cancellation</th>\n",
       "      <th>Surge</th>\n",
       "      <th>Boost</th>\n",
       "      <th>Long Pickup Fee</th>\n",
       "      <th>Share Adjustment</th>\n",
       "      <th>Fare Adjustment</th>\n",
       "    </tr>\n",
       "    <tr>\n",
       "      <th>Trip ID</th>\n",
       "      <th></th>\n",
       "      <th></th>\n",
       "      <th></th>\n",
       "      <th></th>\n",
       "      <th></th>\n",
       "      <th></th>\n",
       "      <th></th>\n",
       "      <th></th>\n",
       "      <th></th>\n",
       "      <th></th>\n",
       "      <th></th>\n",
       "      <th></th>\n",
       "      <th></th>\n",
       "      <th></th>\n",
       "      <th></th>\n",
       "      <th></th>\n",
       "      <th></th>\n",
       "      <th></th>\n",
       "      <th></th>\n",
       "    </tr>\n",
       "  </thead>\n",
       "  <tbody>\n",
       "    <tr>\n",
       "      <th>79c24305-0d20-48bb-941a-0d623ddb1d4b</th>\n",
       "      <td>2020-01-17 23:00:00</td>\n",
       "      <td>UberX</td>\n",
       "      <td>0.75</td>\n",
       "      <td>1.06</td>\n",
       "      <td>0.76</td>\n",
       "      <td>0.0</td>\n",
       "      <td>0.00</td>\n",
       "      <td>0.00</td>\n",
       "      <td>3.0</td>\n",
       "      <td>-0.07</td>\n",
       "      <td>5.50</td>\n",
       "      <td>0.0</td>\n",
       "      <td>0.0</td>\n",
       "      <td>0.0</td>\n",
       "      <td>0.0</td>\n",
       "      <td>0.0</td>\n",
       "      <td>0.0</td>\n",
       "      <td>0.0</td>\n",
       "      <td>0.0</td>\n",
       "    </tr>\n",
       "    <tr>\n",
       "      <th>b9c31c45-63a1-455a-b423-52bdddbf8684</th>\n",
       "      <td>2019-12-10 23:29:00</td>\n",
       "      <td>UberX</td>\n",
       "      <td>0.75</td>\n",
       "      <td>1.58</td>\n",
       "      <td>1.13</td>\n",
       "      <td>0.0</td>\n",
       "      <td>0.00</td>\n",
       "      <td>0.00</td>\n",
       "      <td>1.0</td>\n",
       "      <td>-0.10</td>\n",
       "      <td>4.36</td>\n",
       "      <td>0.0</td>\n",
       "      <td>0.0</td>\n",
       "      <td>0.0</td>\n",
       "      <td>0.0</td>\n",
       "      <td>0.0</td>\n",
       "      <td>0.0</td>\n",
       "      <td>0.0</td>\n",
       "      <td>0.0</td>\n",
       "    </tr>\n",
       "    <tr>\n",
       "      <th>490162f5-99a7-4277-ba0e-8c07af120d78</th>\n",
       "      <td>2019-06-11 19:46:00</td>\n",
       "      <td>UberX</td>\n",
       "      <td>0.75</td>\n",
       "      <td>2.24</td>\n",
       "      <td>1.61</td>\n",
       "      <td>0.0</td>\n",
       "      <td>0.00</td>\n",
       "      <td>0.00</td>\n",
       "      <td>1.0</td>\n",
       "      <td>-0.14</td>\n",
       "      <td>5.46</td>\n",
       "      <td>0.0</td>\n",
       "      <td>0.0</td>\n",
       "      <td>0.0</td>\n",
       "      <td>0.0</td>\n",
       "      <td>0.0</td>\n",
       "      <td>0.0</td>\n",
       "      <td>0.0</td>\n",
       "      <td>0.0</td>\n",
       "    </tr>\n",
       "    <tr>\n",
       "      <th>10d1fdef-b454-4c40-bc9e-9bb47c17d5be</th>\n",
       "      <td>2019-09-17 18:52:00</td>\n",
       "      <td>Delivery</td>\n",
       "      <td>0.00</td>\n",
       "      <td>6.03</td>\n",
       "      <td>2.73</td>\n",
       "      <td>0.0</td>\n",
       "      <td>1.12</td>\n",
       "      <td>0.75</td>\n",
       "      <td>4.0</td>\n",
       "      <td>-0.43</td>\n",
       "      <td>17.60</td>\n",
       "      <td>3.4</td>\n",
       "      <td>0.0</td>\n",
       "      <td>0.0</td>\n",
       "      <td>0.0</td>\n",
       "      <td>0.0</td>\n",
       "      <td>0.0</td>\n",
       "      <td>0.0</td>\n",
       "      <td>0.0</td>\n",
       "    </tr>\n",
       "    <tr>\n",
       "      <th>20969ca1-065e-4a99-b17c-f760e243c69a</th>\n",
       "      <td>2019-08-03 21:59:00</td>\n",
       "      <td>UberX</td>\n",
       "      <td>0.75</td>\n",
       "      <td>5.91</td>\n",
       "      <td>2.23</td>\n",
       "      <td>0.0</td>\n",
       "      <td>0.00</td>\n",
       "      <td>0.00</td>\n",
       "      <td>1.0</td>\n",
       "      <td>-0.37</td>\n",
       "      <td>9.82</td>\n",
       "      <td>0.0</td>\n",
       "      <td>0.3</td>\n",
       "      <td>0.0</td>\n",
       "      <td>0.0</td>\n",
       "      <td>0.0</td>\n",
       "      <td>0.0</td>\n",
       "      <td>0.0</td>\n",
       "      <td>0.0</td>\n",
       "    </tr>\n",
       "  </tbody>\n",
       "</table>\n",
       "</div>"
      ],
      "text/plain": [
       "                                               Date/Time      Type  Base Fare  \\\n",
       "Trip ID                                                                         \n",
       "79c24305-0d20-48bb-941a-0d623ddb1d4b 2020-01-17 23:00:00     UberX       0.75   \n",
       "b9c31c45-63a1-455a-b423-52bdddbf8684 2019-12-10 23:29:00     UberX       0.75   \n",
       "490162f5-99a7-4277-ba0e-8c07af120d78 2019-06-11 19:46:00     UberX       0.75   \n",
       "10d1fdef-b454-4c40-bc9e-9bb47c17d5be 2019-09-17 18:52:00  Delivery       0.00   \n",
       "20969ca1-065e-4a99-b17c-f760e243c69a 2019-08-03 21:59:00     UberX       0.75   \n",
       "\n",
       "                                      Distance  Time  Min Fare Supplement  \\\n",
       "Trip ID                                                                     \n",
       "79c24305-0d20-48bb-941a-0d623ddb1d4b      1.06  0.76                  0.0   \n",
       "b9c31c45-63a1-455a-b423-52bdddbf8684      1.58  1.13                  0.0   \n",
       "490162f5-99a7-4277-ba0e-8c07af120d78      2.24  1.61                  0.0   \n",
       "10d1fdef-b454-4c40-bc9e-9bb47c17d5be      6.03  2.73                  0.0   \n",
       "20969ca1-065e-4a99-b17c-f760e243c69a      5.91  2.23                  0.0   \n",
       "\n",
       "                                      Pickup Fee  Dropoff Fee  Tip  \\\n",
       "Trip ID                                                              \n",
       "79c24305-0d20-48bb-941a-0d623ddb1d4b        0.00         0.00  3.0   \n",
       "b9c31c45-63a1-455a-b423-52bdddbf8684        0.00         0.00  1.0   \n",
       "490162f5-99a7-4277-ba0e-8c07af120d78        0.00         0.00  1.0   \n",
       "10d1fdef-b454-4c40-bc9e-9bb47c17d5be        1.12         0.75  4.0   \n",
       "20969ca1-065e-4a99-b17c-f760e243c69a        0.00         0.00  1.0   \n",
       "\n",
       "                                      Optional Insurance  Total  Toll  \\\n",
       "Trip ID                                                                 \n",
       "79c24305-0d20-48bb-941a-0d623ddb1d4b               -0.07   5.50   0.0   \n",
       "b9c31c45-63a1-455a-b423-52bdddbf8684               -0.10   4.36   0.0   \n",
       "490162f5-99a7-4277-ba0e-8c07af120d78               -0.14   5.46   0.0   \n",
       "10d1fdef-b454-4c40-bc9e-9bb47c17d5be               -0.43  17.60   3.4   \n",
       "20969ca1-065e-4a99-b17c-f760e243c69a               -0.37   9.82   0.0   \n",
       "\n",
       "                                      Wait Time  Cancellation  Surge  Boost  \\\n",
       "Trip ID                                                                       \n",
       "79c24305-0d20-48bb-941a-0d623ddb1d4b        0.0           0.0    0.0    0.0   \n",
       "b9c31c45-63a1-455a-b423-52bdddbf8684        0.0           0.0    0.0    0.0   \n",
       "490162f5-99a7-4277-ba0e-8c07af120d78        0.0           0.0    0.0    0.0   \n",
       "10d1fdef-b454-4c40-bc9e-9bb47c17d5be        0.0           0.0    0.0    0.0   \n",
       "20969ca1-065e-4a99-b17c-f760e243c69a        0.3           0.0    0.0    0.0   \n",
       "\n",
       "                                      Long Pickup Fee  Share Adjustment  \\\n",
       "Trip ID                                                                   \n",
       "79c24305-0d20-48bb-941a-0d623ddb1d4b              0.0               0.0   \n",
       "b9c31c45-63a1-455a-b423-52bdddbf8684              0.0               0.0   \n",
       "490162f5-99a7-4277-ba0e-8c07af120d78              0.0               0.0   \n",
       "10d1fdef-b454-4c40-bc9e-9bb47c17d5be              0.0               0.0   \n",
       "20969ca1-065e-4a99-b17c-f760e243c69a              0.0               0.0   \n",
       "\n",
       "                                      Fare Adjustment  \n",
       "Trip ID                                                \n",
       "79c24305-0d20-48bb-941a-0d623ddb1d4b              0.0  \n",
       "b9c31c45-63a1-455a-b423-52bdddbf8684              0.0  \n",
       "490162f5-99a7-4277-ba0e-8c07af120d78              0.0  \n",
       "10d1fdef-b454-4c40-bc9e-9bb47c17d5be              0.0  \n",
       "20969ca1-065e-4a99-b17c-f760e243c69a              0.0  "
      ]
     },
     "execution_count": 10,
     "metadata": {},
     "output_type": "execute_result"
    }
   ],
   "source": [
    "trips_df.tail()"
   ]
  },
  {
   "cell_type": "markdown",
   "metadata": {},
   "source": [
    "# Data Analysis"
   ]
  },
  {
   "cell_type": "code",
   "execution_count": 11,
   "metadata": {},
   "outputs": [
    {
     "name": "stdout",
     "output_type": "stream",
     "text": [
      "583.8 - 615.42 = -31.62 :: 5.14% off. Not bad.\n"
     ]
    }
   ],
   "source": [
    "#see how close uber came to the announced 2 weeks of average-over-the-last-6-months pay\n",
    "last_six = trips_df.loc[trips_df['Date/Time'] > '2019-09-13']\n",
    "six_x = last_six.groupby(last_six['Date/Time'].dt.isocalendar().week)\n",
    "six_y = six_x['Total'].sum()\n",
    "est = round(six_y.mean()*2, 2)\n",
    "aid = 583.80\n",
    "print(f'{aid} - {est} = {round(aid-est,2)} :: {round(100-(aid/est*100),2)}% off. Not bad.')"
   ]
  },
  {
   "cell_type": "code",
   "execution_count": 12,
   "metadata": {},
   "outputs": [
    {
     "data": {
      "image/png": "[encoded data removed]",
      "text/plain": [
       "<Figure size 1008x792 with 1 Axes>"
      ]
     },
     "metadata": {
      "needs_background": "light"
     },
     "output_type": "display_data"
    }
   ],
   "source": [
    "#monthly sums\n",
    "matplotlib.rcParams['figure.figsize'] = [14,11]\n",
    "x = trips_df.groupby(trips_df['Date/Time'].dt.to_period(\"M\"))\n",
    "y = x['Total'].sum()\n",
    "plt.bar(x=np.arange(len(y.index)),height=y, tick_label=y.index.strftime('%b-%y'))\n",
    "plt.grid()"
   ]
  },
  {
   "cell_type": "code",
   "execution_count": 13,
   "metadata": {},
   "outputs": [
    {
     "data": {
      "image/png": "[encoded data removed]",
      "text/plain": [
       "<Figure size 1008x792 with 1 Axes>"
      ]
     },
     "metadata": {
      "needs_background": "light"
     },
     "output_type": "display_data"
    }
   ],
   "source": [
    "#earnings totals by weekday; 0 = monday\n",
    "x = trips_df.groupby(trips_df['Date/Time'].dt.day_name(locale='en_US'))\n",
    "y = x['Total'].sum().sort_values(ascending=False)\n",
    "plt.bar(x=y.index, height=y)\n",
    "plt.grid()"
   ]
  },
  {
   "cell_type": "code",
   "execution_count": 14,
   "metadata": {},
   "outputs": [
    {
     "data": {
      "image/png": "[encoded data removed]",
      "text/plain": [
       "<Figure size 1008x792 with 1 Axes>"
      ]
     },
     "metadata": {
      "needs_background": "light"
     },
     "output_type": "display_data"
    }
   ],
   "source": [
    "#average trip fare by day\n",
    "x = trips_df.groupby(trips_df['Date/Time'].dt.day_name(locale='en_US'))\n",
    "y = x['Total'].mean().sort_values(ascending=False)\n",
    "plt.bar(x=y.index, height = y)\n",
    "plt.grid()"
   ]
  },
  {
   "cell_type": "code",
   "execution_count": 15,
   "metadata": {},
   "outputs": [
    {
     "data": {
      "image/png": "[encoded data removed]",
      "text/plain": [
       "<Figure size 1008x792 with 1 Axes>"
      ]
     },
     "metadata": {
      "needs_background": "light"
     },
     "output_type": "display_data"
    }
   ],
   "source": [
    "#earnings totals by hour\n",
    "x = trips_df.groupby(trips_df['Date/Time'].dt.hour)\n",
    "y = x['Total'].sum()\n",
    "plt.bar(x=y.index, height=y)\n",
    "plt.grid()"
   ]
  },
  {
   "cell_type": "code",
   "execution_count": 16,
   "metadata": {},
   "outputs": [
    {
     "data": {
      "image/png": "[encoded data removed]",
      "text/plain": [
       "<Figure size 1008x792 with 1 Axes>"
      ]
     },
     "metadata": {
      "needs_background": "light"
     },
     "output_type": "display_data"
    }
   ],
   "source": [
    "#average trip total by hour\n",
    "x = trips_df.groupby(trips_df['Date/Time'].dt.hour)\n",
    "y = x['Total'].mean()\n",
    "plt.bar(x=y.index, height=y)\n",
    "plt.grid()"
   ]
  },
  {
   "cell_type": "code",
   "execution_count": 17,
   "metadata": {},
   "outputs": [
    {
     "data": {
      "image/png": "[encoded data removed]",
      "text/plain": [
       "<Figure size 1008x792 with 9 Axes>"
      ]
     },
     "metadata": {
      "needs_background": "light"
     },
     "output_type": "display_data"
    }
   ],
   "source": [
    "#boxplots of trip fares broken down by weekday, hour\n",
    "x = trips_df.groupby(trips_df['Date/Time'].dt.day_name(locale='en_US'))\n",
    "graph = x.boxplot(column='Total', by=trips_df['Date/Time'].dt.hour)\n",
    "[axis.set_xlabel('') for axis in graph]\n",
    "plt.suptitle('')\n",
    "[axis.set_ylim([0,40]) for axis in graph]\n",
    "plt.show()"
   ]
  },
  {
   "cell_type": "code",
   "execution_count": 18,
   "metadata": {},
   "outputs": [
    {
     "data": {
      "image/png": "[encoded data removed]",
      "text/plain": [
       "<Figure size 1008x792 with 1 Axes>"
      ]
     },
     "metadata": {
      "needs_background": "light"
     },
     "output_type": "display_data"
    },
    {
     "data": {
      "text/plain": [
       "<Figure size 1008x792 with 0 Axes>"
      ]
     },
     "metadata": {},
     "output_type": "display_data"
    }
   ],
   "source": [
    "#trip fare boxplot by weekday\n",
    "graph = trips_df.boxplot(column='Total',\n",
    "                         by=trips_df['Date/Time'].dt.day_name(locale='en_US'),\n",
    "                         return_type = 'axes')\n",
    "[axis.set_xlabel('') for axis in graph]\n",
    "plt.suptitle('')\n",
    "[axis.set_ylim([0,40]) for axis in graph]\n",
    "plt.figure()\n",
    "plt.show()"
   ]
  },
  {
   "cell_type": "code",
   "execution_count": 19,
   "metadata": {},
   "outputs": [
    {
     "data": {
      "image/png": "[encoded data removed]",
      "text/plain": [
       "<Figure size 1008x792 with 9 Axes>"
      ]
     },
     "metadata": {
      "needs_background": "light"
     },
     "output_type": "display_data"
    }
   ],
   "source": [
    "#trip fare histograms by weekday\n",
    "graph = trips_df['Total'].hist(by=trips_df['Date/Time'].dt.day_name(locale='en_US'),bins=12, grid=True)"
   ]
  },
  {
   "cell_type": "code",
   "execution_count": 20,
   "metadata": {},
   "outputs": [
    {
     "data": {
      "text/plain": [
       "UberX       1068\n",
       "Delivery      36\n",
       "VIP            9\n",
       "Name: Type, dtype: int64"
      ]
     },
     "execution_count": 20,
     "metadata": {},
     "output_type": "execute_result"
    }
   ],
   "source": [
    "#trip type breakdown\n",
    "trips_df.Type.value_counts()"
   ]
  },
  {
   "cell_type": "code",
   "execution_count": 21,
   "metadata": {},
   "outputs": [
    {
     "data": {
      "text/plain": [
       "count    1113.000000\n",
       "mean        8.608661\n",
       "std         6.971744\n",
       "min         0.000000\n",
       "25%         3.750000\n",
       "50%         6.300000\n",
       "75%        10.790000\n",
       "max        71.110000\n",
       "Name: Total, dtype: float64"
      ]
     },
     "execution_count": 21,
     "metadata": {},
     "output_type": "execute_result"
    }
   ],
   "source": [
    "trips_df.Total.describe()"
   ]
  },
  {
   "cell_type": "code",
   "execution_count": 22,
   "metadata": {},
   "outputs": [
    {
     "data": {
      "text/plain": [
       "count    36.000000\n",
       "mean      7.649444\n",
       "std       3.804756\n",
       "min       3.640000\n",
       "25%       4.655000\n",
       "50%       6.390000\n",
       "75%       9.057500\n",
       "max      17.600000\n",
       "Name: Total, dtype: float64"
      ]
     },
     "execution_count": 22,
     "metadata": {},
     "output_type": "execute_result"
    }
   ],
   "source": [
    "deliveries = trips_df.loc[trips_df.Type == 'Delivery']\n",
    "deliveries['Total'].describe()"
   ]
  },
  {
   "cell_type": "code",
   "execution_count": 23,
   "metadata": {},
   "outputs": [
    {
     "data": {
      "text/plain": [
       "275.38"
      ]
     },
     "execution_count": 23,
     "metadata": {},
     "output_type": "execute_result"
    }
   ],
   "source": [
    "#total earned from deliveries\n",
    "round(deliveries.Total.sum(),2)"
   ]
  },
  {
   "cell_type": "code",
   "execution_count": 24,
   "metadata": {},
   "outputs": [
    {
     "data": {
      "text/plain": [
       "count    56.000000\n",
       "mean      3.712500\n",
       "std       0.550594\n",
       "min       0.000000\n",
       "25%       3.750000\n",
       "50%       3.750000\n",
       "75%       3.750000\n",
       "max       5.390000\n",
       "Name: Total, dtype: float64"
      ]
     },
     "execution_count": 24,
     "metadata": {},
     "output_type": "execute_result"
    }
   ],
   "source": [
    "cancellations = trips_df.loc[trips_df.Cancellation != 0]\n",
    "cancellations['Total'].describe()"
   ]
  },
  {
   "cell_type": "code",
   "execution_count": 25,
   "metadata": {},
   "outputs": [
    {
     "data": {
      "text/plain": [
       "207.9"
      ]
     },
     "execution_count": 25,
     "metadata": {},
     "output_type": "execute_result"
    }
   ],
   "source": [
    "#total earned from cancellations\n",
    "round(cancellations.Total.sum(),2)"
   ]
  },
  {
   "cell_type": "code",
   "execution_count": 26,
   "metadata": {},
   "outputs": [
    {
     "data": {
      "text/plain": [
       "count    1021.000000\n",
       "mean        8.911028\n",
       "std         7.143950\n",
       "min         2.230000\n",
       "25%         3.880000\n",
       "50%         6.850000\n",
       "75%        11.260000\n",
       "max        71.110000\n",
       "Name: Total, dtype: float64"
      ]
     },
     "execution_count": 26,
     "metadata": {},
     "output_type": "execute_result"
    }
   ],
   "source": [
    "passengers = trips_df.loc[(trips_df['Type'] != 'Delivery') & (trips_df['Cancellation'] == 0.00)]\n",
    "passengers['Total'].describe()"
   ]
  },
  {
   "cell_type": "code",
   "execution_count": 27,
   "metadata": {},
   "outputs": [
    {
     "data": {
      "text/plain": [
       "9098.16"
      ]
     },
     "execution_count": 27,
     "metadata": {},
     "output_type": "execute_result"
    }
   ],
   "source": [
    "#total earned from passengers\n",
    "round(passengers.Total.sum(),2)"
   ]
  },
  {
   "cell_type": "code",
   "execution_count": 28,
   "metadata": {},
   "outputs": [
    {
     "data": {
      "text/plain": [
       "8076.9"
      ]
     },
     "execution_count": 28,
     "metadata": {},
     "output_type": "execute_result"
    }
   ],
   "source": [
    "#miles with passenger(s)\n",
    "miles = passengers.Distance.sum() / 0.6 # 60 cents per mile in Houston, TX\n",
    "round(miles,1)"
   ]
  },
  {
   "cell_type": "code",
   "execution_count": 29,
   "metadata": {},
   "outputs": [
    {
     "data": {
      "text/plain": [
       "53.3"
      ]
     },
     "execution_count": 29,
     "metadata": {},
     "output_type": "execute_result"
    }
   ],
   "source": [
    "#percentage of fare from trip distance\n",
    "round(passengers.Distance.sum() / passengers.Total.sum() * 100,1)"
   ]
  },
  {
   "cell_type": "code",
   "execution_count": 30,
   "metadata": {},
   "outputs": [
    {
     "data": {
      "text/plain": [
       "7.9"
      ]
     },
     "execution_count": 30,
     "metadata": {},
     "output_type": "execute_result"
    }
   ],
   "source": [
    "#avg passenger trip distance in miles\n",
    "round(miles / len(passengers),1)"
   ]
  },
  {
   "cell_type": "code",
   "execution_count": 31,
   "metadata": {},
   "outputs": [
    {
     "data": {
      "text/plain": [
       "250.67"
      ]
     },
     "execution_count": 31,
     "metadata": {},
     "output_type": "execute_result"
    }
   ],
   "source": [
    "#time with passenger(s) in hours\n",
    "hours = passengers.Time.sum() / 7.65 # $7.65 per hour in Houston, TX\n",
    "round(hours,2)"
   ]
  },
  {
   "cell_type": "code",
   "execution_count": 32,
   "metadata": {},
   "outputs": [
    {
     "data": {
      "text/plain": [
       "21.1"
      ]
     },
     "execution_count": 32,
     "metadata": {},
     "output_type": "execute_result"
    }
   ],
   "source": [
    "#percentage of fare from trip duration\n",
    "round(passengers.Time.sum() / passengers.Total.sum() * 100,1)"
   ]
  },
  {
   "cell_type": "code",
   "execution_count": 33,
   "metadata": {},
   "outputs": [
    {
     "data": {
      "text/plain": [
       "14.7"
      ]
     },
     "execution_count": 33,
     "metadata": {},
     "output_type": "execute_result"
    }
   ],
   "source": [
    "#avg trip duration in minutes\n",
    "round(60*hours / len(passengers),1)"
   ]
  },
  {
   "cell_type": "code",
   "execution_count": 34,
   "metadata": {},
   "outputs": [
    {
     "data": {
      "text/plain": [
       "32.2"
      ]
     },
     "execution_count": 34,
     "metadata": {},
     "output_type": "execute_result"
    }
   ],
   "source": [
    "#avg speed with passenger in vehicle\n",
    "round(miles/hours,1)"
   ]
  },
  {
   "cell_type": "code",
   "execution_count": 35,
   "metadata": {},
   "outputs": [
    {
     "data": {
      "text/plain": [
       "9581.44"
      ]
     },
     "execution_count": 35,
     "metadata": {},
     "output_type": "execute_result"
    }
   ],
   "source": [
    "#total earned\n",
    "round(trips_df['Total'].sum(),2)"
   ]
  },
  {
   "cell_type": "code",
   "execution_count": 36,
   "metadata": {},
   "outputs": [
    {
     "data": {
      "text/plain": [
       "310.39"
      ]
     },
     "execution_count": 36,
     "metadata": {},
     "output_type": "execute_result"
    }
   ],
   "source": [
    "#amount deducted for optional insurance\n",
    "-1*trips_df['Optional Insurance'].sum()"
   ]
  },
  {
   "cell_type": "code",
   "execution_count": 37,
   "metadata": {},
   "outputs": [
    {
     "data": {
      "text/plain": [
       "3.1"
      ]
     },
     "execution_count": 37,
     "metadata": {},
     "output_type": "execute_result"
    }
   ],
   "source": [
    "#percentage of earnings paid to insurance\n",
    "round(trips_df['Optional Insurance'].sum() / (trips_df['Total'].sum()-trips_df['Optional Insurance'].sum()) * -100,1)"
   ]
  },
  {
   "cell_type": "code",
   "execution_count": 38,
   "metadata": {},
   "outputs": [
    {
     "data": {
      "text/plain": [
       "249"
      ]
     },
     "execution_count": 38,
     "metadata": {},
     "output_type": "execute_result"
    }
   ],
   "source": [
    "#number of passenger trips with an in-app tip\n",
    "len(passengers.loc[passengers.Tip != 0])"
   ]
  },
  {
   "cell_type": "code",
   "execution_count": 39,
   "metadata": {},
   "outputs": [
    {
     "data": {
      "text/plain": [
       "24.39"
      ]
     },
     "execution_count": 39,
     "metadata": {},
     "output_type": "execute_result"
    }
   ],
   "source": [
    "#percentage of rides with in-app tip\n",
    "round(100 * 249 / len(passengers),2)"
   ]
  },
  {
   "cell_type": "code",
   "execution_count": 40,
   "metadata": {},
   "outputs": [
    {
     "data": {
      "text/plain": [
       "8.3"
      ]
     },
     "execution_count": 40,
     "metadata": {},
     "output_type": "execute_result"
    }
   ],
   "source": [
    "#percentage of earnings from tips\n",
    "round(passengers.Tip.sum() / passengers.Total.sum() * 100,1)"
   ]
  },
  {
   "cell_type": "code",
   "execution_count": 41,
   "metadata": {},
   "outputs": [
    {
     "data": {
      "text/plain": [
       "755.49"
      ]
     },
     "execution_count": 41,
     "metadata": {},
     "output_type": "execute_result"
    }
   ],
   "source": [
    "#total passsenger in-app tips\n",
    "passengers.Tip.sum()"
   ]
  },
  {
   "cell_type": "code",
   "execution_count": 42,
   "metadata": {},
   "outputs": [
    {
     "data": {
      "text/plain": [
       "17"
      ]
     },
     "execution_count": 42,
     "metadata": {},
     "output_type": "execute_result"
    }
   ],
   "source": [
    "#number of deliveries with in-app tip\n",
    "len(deliveries.loc[deliveries.Tip != 0])"
   ]
  },
  {
   "cell_type": "code",
   "execution_count": 43,
   "metadata": {},
   "outputs": [
    {
     "data": {
      "text/plain": [
       "47.22"
      ]
     },
     "execution_count": 43,
     "metadata": {},
     "output_type": "execute_result"
    }
   ],
   "source": [
    "#percentage of deliveries with in-app tip\n",
    "round(100 * len(deliveries.loc[deliveries.Tip != 0]) / len(deliveries),2)"
   ]
  },
  {
   "cell_type": "code",
   "execution_count": 44,
   "metadata": {},
   "outputs": [
    {
     "data": {
      "text/plain": [
       "44.06"
      ]
     },
     "execution_count": 44,
     "metadata": {},
     "output_type": "execute_result"
    }
   ],
   "source": [
    "#total delivery in-app tips\n",
    "round(deliveries.Tip.sum(),2)"
   ]
  },
  {
   "cell_type": "code",
   "execution_count": 45,
   "metadata": {},
   "outputs": [
    {
     "data": {
      "text/plain": [
       "2.59"
      ]
     },
     "execution_count": 45,
     "metadata": {},
     "output_type": "execute_result"
    }
   ],
   "source": [
    "#avg non-zero delivery in-app tip\n",
    "round(deliveries.Tip.sum() / len(deliveries.loc[deliveries['Tip'] != 0]),2)"
   ]
  },
  {
   "cell_type": "code",
   "execution_count": 46,
   "metadata": {},
   "outputs": [
    {
     "data": {
      "text/plain": [
       "3.03"
      ]
     },
     "execution_count": 46,
     "metadata": {},
     "output_type": "execute_result"
    }
   ],
   "source": [
    "#avg non-zero passenger in-app tip\n",
    "round(passengers.Tip.sum() / len(passengers.loc[passengers['Tip'] != 0]),2)"
   ]
  },
  {
   "cell_type": "code",
   "execution_count": 47,
   "metadata": {},
   "outputs": [
    {
     "data": {
      "text/plain": [
       "21.86"
      ]
     },
     "execution_count": 47,
     "metadata": {},
     "output_type": "execute_result"
    }
   ],
   "source": [
    "#largest passenger tip\n",
    "passengers.Tip.max()"
   ]
  },
  {
   "cell_type": "code",
   "execution_count": 48,
   "metadata": {},
   "outputs": [
    {
     "data": {
      "text/plain": [
       "285.66"
      ]
     },
     "execution_count": 48,
     "metadata": {},
     "output_type": "execute_result"
    }
   ],
   "source": [
    "#tolls reimbursed\n",
    "passengers.Toll.sum()"
   ]
  },
  {
   "cell_type": "code",
   "execution_count": 49,
   "metadata": {},
   "outputs": [
    {
     "data": {
      "text/plain": [
       "3.0"
      ]
     },
     "execution_count": 49,
     "metadata": {},
     "output_type": "execute_result"
    }
   ],
   "source": [
    "#percentage of earnings paid to toll\n",
    "round(trips_df.Toll.sum() / trips_df.Total.sum() * 100,1)"
   ]
  },
  {
   "cell_type": "code",
   "execution_count": 50,
   "metadata": {},
   "outputs": [
    {
     "data": {
      "text/plain": [
       "8812.5"
      ]
     },
     "execution_count": 50,
     "metadata": {},
     "output_type": "execute_result"
    }
   ],
   "source": [
    "#net passenger earnings = total - tolls\n",
    "net_earnings = passengers.Total.sum() - passengers.Toll.sum()\n",
    "net_earnings"
   ]
  },
  {
   "cell_type": "code",
   "execution_count": 51,
   "metadata": {},
   "outputs": [
    {
     "data": {
      "text/plain": [
       "8.63"
      ]
     },
     "execution_count": 51,
     "metadata": {},
     "output_type": "execute_result"
    }
   ],
   "source": [
    "#avg net earned per passenger trip\n",
    "round(net_earnings/len(passengers),2)"
   ]
  },
  {
   "cell_type": "code",
   "execution_count": 52,
   "metadata": {},
   "outputs": [
    {
     "data": {
      "text/plain": [
       "8.57"
      ]
     },
     "execution_count": 52,
     "metadata": {},
     "output_type": "execute_result"
    }
   ],
   "source": [
    "#in-app tips as percentage of net passenger earnings\n",
    "round(100 * (passengers.Tip.sum() / net_earnings),2)"
   ]
  },
  {
   "cell_type": "code",
   "execution_count": 53,
   "metadata": {},
   "outputs": [
    {
     "data": {
      "text/plain": [
       "35.16"
      ]
     },
     "execution_count": 53,
     "metadata": {},
     "output_type": "execute_result"
    }
   ],
   "source": [
    "#approximate hourly earnings with passenger(s) in vehicle\n",
    "round(net_earnings / 250.67,2)"
   ]
  },
  {
   "cell_type": "code",
   "execution_count": 54,
   "metadata": {},
   "outputs": [
    {
     "data": {
      "text/plain": [
       "1.09"
      ]
     },
     "execution_count": 54,
     "metadata": {},
     "output_type": "execute_result"
    }
   ],
   "source": [
    "#approximate earnings per mile with passenger(s) in vehicle\n",
    "round(net_earnings / 8076.9,2)"
   ]
  },
  {
   "cell_type": "code",
   "execution_count": 55,
   "metadata": {},
   "outputs": [
    {
     "data": {
      "text/plain": [
       "48"
      ]
     },
     "execution_count": 55,
     "metadata": {},
     "output_type": "execute_result"
    }
   ],
   "source": [
    "# of passengers who paid for me to wait on them at pickup and still tipped\n",
    "len(passengers.loc[(passengers['Wait Time'] != 0) & (passengers.Tip != 0)])"
   ]
  },
  {
   "cell_type": "code",
   "execution_count": 56,
   "metadata": {},
   "outputs": [
    {
     "data": {
      "text/plain": [
       "82"
      ]
     },
     "execution_count": 56,
     "metadata": {},
     "output_type": "execute_result"
    }
   ],
   "source": [
    "# of trips that were so short I got paid a little extra from Uber but they still didn't tip\n",
    "cheapos = passengers.loc[(passengers['Min Fare Supplement'] != 0) & (passengers.Tip == 0)]\n",
    "len(cheapos)"
   ]
  },
  {
   "cell_type": "code",
   "execution_count": 57,
   "metadata": {},
   "outputs": [
    {
     "data": {
      "text/plain": [
       "8.0"
      ]
     },
     "execution_count": 57,
     "metadata": {},
     "output_type": "execute_result"
    }
   ],
   "source": [
    "#% of passengers who are cheapos\n",
    "round(len(cheapos) / len(passengers) * 100,1)"
   ]
  },
  {
   "cell_type": "code",
   "execution_count": 58,
   "metadata": {},
   "outputs": [
    {
     "data": {
      "text/plain": [
       "0.9"
      ]
     },
     "execution_count": 58,
     "metadata": {},
     "output_type": "execute_result"
    }
   ],
   "source": [
    "#avg distance in miles of cheapo trips\n",
    "round(cheapos.Distance.mean() / 0.6,1)"
   ]
  },
  {
   "cell_type": "code",
   "execution_count": 59,
   "metadata": {},
   "outputs": [
    {
     "data": {
      "text/plain": [
       "3.8"
      ]
     },
     "execution_count": 59,
     "metadata": {},
     "output_type": "execute_result"
    }
   ],
   "source": [
    "#avg time in minutes of cheapo trips\n",
    "round(60 * cheapos.Time.mean() / 7.65,1)"
   ]
  },
  {
   "cell_type": "code",
   "execution_count": 60,
   "metadata": {},
   "outputs": [
    {
     "data": {
      "text/plain": [
       "2.78"
      ]
     },
     "execution_count": 60,
     "metadata": {},
     "output_type": "execute_result"
    }
   ],
   "source": [
    "#avg cheapo trip total\n",
    "round(cheapos.Total.mean(),2)"
   ]
  },
  {
   "cell_type": "code",
   "execution_count": 61,
   "metadata": {},
   "outputs": [
    {
     "data": {
      "text/plain": [
       "8.0"
      ]
     },
     "execution_count": 61,
     "metadata": {},
     "output_type": "execute_result"
    }
   ],
   "source": [
    "#percentage of passengers who ordered minimum fare trips and didn't tip\n",
    "round(100 * len(cheapos) / len(passengers),1)"
   ]
  },
  {
   "cell_type": "code",
   "execution_count": 62,
   "metadata": {},
   "outputs": [
    {
     "data": {
      "text/plain": [
       "2.5"
      ]
     },
     "execution_count": 62,
     "metadata": {},
     "output_type": "execute_result"
    }
   ],
   "source": [
    "#percentage of passenger earnings from minimum-fare trips where the rider didn't tip\n",
    "round(100 * cheapos.Total.sum() / passengers.Total.sum(),1)"
   ]
  },
  {
   "cell_type": "code",
   "execution_count": 63,
   "metadata": {},
   "outputs": [
    {
     "data": {
      "text/plain": [
       "21"
      ]
     },
     "execution_count": 63,
     "metadata": {},
     "output_type": "execute_result"
    }
   ],
   "source": [
    "#real salt-of-the-earth people who ordered minimum-fare trips, didn't tip, and had me wait on them\n",
    "jerks = cheapos.loc[cheapos['Wait Time'] != 0]\n",
    "len(jerks)"
   ]
  },
  {
   "cell_type": "code",
   "execution_count": 64,
   "metadata": {},
   "outputs": [
    {
     "data": {
      "text/plain": [
       "0.00    17\n",
       "7.00     1\n",
       "3.75     1\n",
       "3.50     1\n",
       "1.75     1\n",
       "Name: Surge, dtype: int64"
      ]
     },
     "execution_count": 64,
     "metadata": {},
     "output_type": "execute_result"
    }
   ],
   "source": [
    "#lucky for me 4 of these 21 ordered during a surge. Still, though...\n",
    "jerks.Surge.value_counts()"
   ]
  },
  {
   "cell_type": "code",
   "execution_count": 65,
   "metadata": {},
   "outputs": [
    {
     "data": {
      "text/plain": [
       "2.1"
      ]
     },
     "execution_count": 65,
     "metadata": {},
     "output_type": "execute_result"
    }
   ],
   "source": [
    "#percentage of passengers that are verified jerks\n",
    "round(100 * len(jerks) / len(passengers),1)"
   ]
  },
  {
   "cell_type": "code",
   "execution_count": 66,
   "metadata": {},
   "outputs": [
    {
     "data": {
      "text/plain": [
       "70.06"
      ]
     },
     "execution_count": 66,
     "metadata": {},
     "output_type": "execute_result"
    }
   ],
   "source": [
    "#how much I made to drive these jerks around\n",
    "jerks.Total.sum()"
   ]
  },
  {
   "cell_type": "code",
   "execution_count": 67,
   "metadata": {},
   "outputs": [
    {
     "data": {
      "text/plain": [
       "20.0"
      ]
     },
     "execution_count": 67,
     "metadata": {},
     "output_type": "execute_result"
    }
   ],
   "source": [
    "#how far I drove these jerks in miles\n",
    "jerks.Distance.sum() / 0.6"
   ]
  },
  {
   "cell_type": "code",
   "execution_count": 68,
   "metadata": {},
   "outputs": [
    {
     "data": {
      "text/plain": [
       "1.35"
      ]
     },
     "execution_count": 68,
     "metadata": {},
     "output_type": "execute_result"
    }
   ],
   "source": [
    "#how much time I spent in the presence of these jerks in hours\n",
    "round(jerks.Time.sum() / 7.65,2)"
   ]
  },
  {
   "cell_type": "code",
   "execution_count": 69,
   "metadata": {},
   "outputs": [
    {
     "data": {
      "text/plain": [
       "51.9"
      ]
     },
     "execution_count": 69,
     "metadata": {},
     "output_type": "execute_result"
    }
   ],
   "source": [
    "#hourly rate to drive a jerk from a to b. Not bad.\n",
    "round(70.06/1.35,2)"
   ]
  },
  {
   "cell_type": "code",
   "execution_count": 70,
   "metadata": {},
   "outputs": [
    {
     "data": {
      "text/plain": [
       "14.8"
      ]
     },
     "execution_count": 70,
     "metadata": {},
     "output_type": "execute_result"
    }
   ],
   "source": [
    "#avg speed in mph while driving jerks\n",
    "round(20/1.35,1)"
   ]
  },
  {
   "cell_type": "code",
   "execution_count": 71,
   "metadata": {},
   "outputs": [
    {
     "data": {
      "image/png": "[encoded data removed]",
      "text/plain": [
       "<Figure size 1008x792 with 1 Axes>"
      ]
     },
     "metadata": {
      "needs_background": "light"
     },
     "output_type": "display_data"
    }
   ],
   "source": [
    "#when do cheapos ride?\n",
    "x = cheapos.groupby(cheapos['Date/Time'].dt.hour)\n",
    "y = x['Total'].count()\n",
    "plt.bar(x=y.index, height = y)\n",
    "plt.grid()"
   ]
  },
  {
   "cell_type": "code",
   "execution_count": 72,
   "metadata": {},
   "outputs": [
    {
     "data": {
      "text/plain": [
       "count    131.000000\n",
       "mean       4.675954\n",
       "std        3.355017\n",
       "min        1.000000\n",
       "25%        2.000000\n",
       "50%        3.860000\n",
       "75%        6.625000\n",
       "max       17.360000\n",
       "Name: Surge, dtype: float64"
      ]
     },
     "execution_count": 72,
     "metadata": {},
     "output_type": "execute_result"
    }
   ],
   "source": [
    "#surges\n",
    "surges = passengers.loc[passengers.Surge != 0]\n",
    "surges.Surge.describe()"
   ]
  },
  {
   "cell_type": "code",
   "execution_count": 73,
   "metadata": {},
   "outputs": [
    {
     "data": {
      "text/plain": [
       "612.55"
      ]
     },
     "execution_count": 73,
     "metadata": {},
     "output_type": "execute_result"
    }
   ],
   "source": [
    "#total earned from surges, note that I earned less in surges than in tips\n",
    "surges.Surge.sum()"
   ]
  },
  {
   "cell_type": "code",
   "execution_count": 74,
   "metadata": {},
   "outputs": [
    {
     "data": {
      "text/plain": [
       "6.7"
      ]
     },
     "execution_count": 74,
     "metadata": {},
     "output_type": "execute_result"
    }
   ],
   "source": [
    "#percentage of earnings from surges\n",
    "round(surges.Surge.sum() / passengers.Total.sum() * 100,1)"
   ]
  },
  {
   "cell_type": "code",
   "execution_count": 75,
   "metadata": {},
   "outputs": [
    {
     "data": {
      "text/plain": [
       "12.8"
      ]
     },
     "execution_count": 75,
     "metadata": {},
     "output_type": "execute_result"
    }
   ],
   "source": [
    "#percentage of trips with surges\n",
    "round(len(surges) / len(passengers) * 100,1)"
   ]
  },
  {
   "cell_type": "code",
   "execution_count": 76,
   "metadata": {},
   "outputs": [
    {
     "data": {
      "image/png": "[encoded data removed]",
      "text/plain": [
       "<Figure size 1008x792 with 1 Axes>"
      ]
     },
     "metadata": {
      "needs_background": "light"
     },
     "output_type": "display_data"
    }
   ],
   "source": [
    "#avg non-zero surge by hour of day \n",
    "x = surges.groupby(surges['Date/Time'].dt.hour)\n",
    "y = x['Surge'].mean()\n",
    "plt.bar(x=y.index, height = y)\n",
    "plt.grid()"
   ]
  },
  {
   "cell_type": "code",
   "execution_count": 77,
   "metadata": {},
   "outputs": [
    {
     "data": {
      "text/plain": [
       "<BarContainer object of 40 artists>"
      ]
     },
     "execution_count": 77,
     "metadata": {},
     "output_type": "execute_result"
    },
    {
     "data": {
      "image/png": "[encoded data removed]",
      "text/plain": [
       "<Figure size 1008x792 with 1 Axes>"
      ]
     },
     "metadata": {
      "needs_background": "light"
     },
     "output_type": "display_data"
    }
   ],
   "source": [
    "#weekly totals\n",
    "x = passengers.groupby(passengers['Date/Time'].dt.isocalendar().week)\n",
    "y = x['Total'].sum()\n",
    "plt.grid()\n",
    "plt.bar(x=y.index, height = y)"
   ]
  },
  {
   "cell_type": "code",
   "execution_count": 78,
   "metadata": {},
   "outputs": [
    {
     "data": {
      "text/plain": [
       "count     40.000000\n",
       "mean     227.454000\n",
       "std      167.787258\n",
       "min        7.430000\n",
       "25%       97.180000\n",
       "50%      201.575000\n",
       "75%      301.695000\n",
       "max      692.890000\n",
       "Name: Total, dtype: float64"
      ]
     },
     "execution_count": 78,
     "metadata": {},
     "output_type": "execute_result"
    }
   ],
   "source": [
    "#pay by week\n",
    "y.describe()"
   ]
  },
  {
   "cell_type": "code",
   "execution_count": 79,
   "metadata": {},
   "outputs": [
    {
     "data": {
      "text/plain": [
       "5.0"
      ]
     },
     "execution_count": 79,
     "metadata": {},
     "output_type": "execute_result"
    }
   ],
   "source": [
    "#percentage of trips that get cancelled\n",
    "round(len(cancellations) / len(trips_df) * 100,1)"
   ]
  },
  {
   "cell_type": "code",
   "execution_count": 80,
   "metadata": {},
   "outputs": [],
   "source": [
    "longs = passengers.loc[passengers['Long Pickup Fee'] != 0]"
   ]
  },
  {
   "cell_type": "code",
   "execution_count": 81,
   "metadata": {},
   "outputs": [
    {
     "data": {
      "text/plain": [
       "1.2"
      ]
     },
     "execution_count": 81,
     "metadata": {},
     "output_type": "execute_result"
    }
   ],
   "source": [
    "#percentage of trips with long pickup\n",
    "round(len(longs) / len(passengers) * 100,1)"
   ]
  },
  {
   "cell_type": "code",
   "execution_count": 82,
   "metadata": {},
   "outputs": [
    {
     "data": {
      "text/html": [
       "<div>\n",
       "<style scoped>\n",
       "    .dataframe tbody tr th:only-of-type {\n",
       "        vertical-align: middle;\n",
       "    }\n",
       "\n",
       "    .dataframe tbody tr th {\n",
       "        vertical-align: top;\n",
       "    }\n",
       "\n",
       "    .dataframe thead th {\n",
       "        text-align: right;\n",
       "    }\n",
       "</style>\n",
       "<table border=\"1\" class=\"dataframe\">\n",
       "  <thead>\n",
       "    <tr style=\"text-align: right;\">\n",
       "      <th></th>\n",
       "      <th>Date/Time</th>\n",
       "      <th>Type</th>\n",
       "      <th>Base Fare</th>\n",
       "      <th>Distance</th>\n",
       "      <th>Time</th>\n",
       "      <th>Min Fare Supplement</th>\n",
       "      <th>Pickup Fee</th>\n",
       "      <th>Dropoff Fee</th>\n",
       "      <th>Tip</th>\n",
       "      <th>Optional Insurance</th>\n",
       "      <th>Total</th>\n",
       "      <th>Toll</th>\n",
       "      <th>Wait Time</th>\n",
       "      <th>Cancellation</th>\n",
       "      <th>Surge</th>\n",
       "      <th>Boost</th>\n",
       "      <th>Long Pickup Fee</th>\n",
       "      <th>Share Adjustment</th>\n",
       "      <th>Fare Adjustment</th>\n",
       "    </tr>\n",
       "    <tr>\n",
       "      <th>Trip ID</th>\n",
       "      <th></th>\n",
       "      <th></th>\n",
       "      <th></th>\n",
       "      <th></th>\n",
       "      <th></th>\n",
       "      <th></th>\n",
       "      <th></th>\n",
       "      <th></th>\n",
       "      <th></th>\n",
       "      <th></th>\n",
       "      <th></th>\n",
       "      <th></th>\n",
       "      <th></th>\n",
       "      <th></th>\n",
       "      <th></th>\n",
       "      <th></th>\n",
       "      <th></th>\n",
       "      <th></th>\n",
       "      <th></th>\n",
       "    </tr>\n",
       "  </thead>\n",
       "  <tbody>\n",
       "    <tr>\n",
       "      <th>4ac185a3-eba0-4723-9179-64da1991f0b3</th>\n",
       "      <td>2020-02-11 23:38:00</td>\n",
       "      <td>UberX</td>\n",
       "      <td>0.75</td>\n",
       "      <td>0.35</td>\n",
       "      <td>0.68</td>\n",
       "      <td>0.2</td>\n",
       "      <td>0.0</td>\n",
       "      <td>0.0</td>\n",
       "      <td>0.0</td>\n",
       "      <td>-0.02</td>\n",
       "      <td>2.54</td>\n",
       "      <td>0.0</td>\n",
       "      <td>0.27</td>\n",
       "      <td>0.0</td>\n",
       "      <td>0.0</td>\n",
       "      <td>0.0</td>\n",
       "      <td>0.31</td>\n",
       "      <td>0.0</td>\n",
       "      <td>0.0</td>\n",
       "    </tr>\n",
       "  </tbody>\n",
       "</table>\n",
       "</div>"
      ],
      "text/plain": [
       "                                               Date/Time   Type  Base Fare  \\\n",
       "Trip ID                                                                      \n",
       "4ac185a3-eba0-4723-9179-64da1991f0b3 2020-02-11 23:38:00  UberX       0.75   \n",
       "\n",
       "                                      Distance  Time  Min Fare Supplement  \\\n",
       "Trip ID                                                                     \n",
       "4ac185a3-eba0-4723-9179-64da1991f0b3      0.35  0.68                  0.2   \n",
       "\n",
       "                                      Pickup Fee  Dropoff Fee  Tip  \\\n",
       "Trip ID                                                              \n",
       "4ac185a3-eba0-4723-9179-64da1991f0b3         0.0          0.0  0.0   \n",
       "\n",
       "                                      Optional Insurance  Total  Toll  \\\n",
       "Trip ID                                                                 \n",
       "4ac185a3-eba0-4723-9179-64da1991f0b3               -0.02   2.54   0.0   \n",
       "\n",
       "                                      Wait Time  Cancellation  Surge  Boost  \\\n",
       "Trip ID                                                                       \n",
       "4ac185a3-eba0-4723-9179-64da1991f0b3       0.27           0.0    0.0    0.0   \n",
       "\n",
       "                                      Long Pickup Fee  Share Adjustment  \\\n",
       "Trip ID                                                                   \n",
       "4ac185a3-eba0-4723-9179-64da1991f0b3             0.31               0.0   \n",
       "\n",
       "                                      Fare Adjustment  \n",
       "Trip ID                                                \n",
       "4ac185a3-eba0-4723-9179-64da1991f0b3              0.0  "
      ]
     },
     "execution_count": 82,
     "metadata": {},
     "output_type": "execute_result"
    }
   ],
   "source": [
    "#long pickup fee means I drove >11 min to pickup. \n",
    "#one rider ordered a long pickup, wasn't ready at arrival, and rode ~0.5 mile\n",
    "#it was a quarter to midnight in Seabrook, about 30 miles from where I wanted to be at the time\n",
    "#and in case you're wondering, she did indeed say she would tip me in the app\n",
    "big_jerk = cheapos.loc[cheapos['Long Pickup Fee']!= 0]\n",
    "big_jerk"
   ]
  },
  {
   "cell_type": "code",
   "execution_count": 83,
   "metadata": {},
   "outputs": [
    {
     "data": {
      "text/plain": [
       "<AxesSubplot:>"
      ]
     },
     "execution_count": 83,
     "metadata": {},
     "output_type": "execute_result"
    },
    {
     "data": {
      "image/png": "[encoded data removed]",
      "text/plain": [
       "<Figure size 1008x792 with 1 Axes>"
      ]
     },
     "metadata": {
      "needs_background": "light"
     },
     "output_type": "display_data"
    }
   ],
   "source": [
    "#passenger fare histogram\n",
    "passengers.Total.hist(bins=32)"
   ]
  },
  {
   "cell_type": "code",
   "execution_count": 84,
   "metadata": {},
   "outputs": [],
   "source": [
    "winter = trips_df.loc[(trips_df['Date/Time'].dt.month == 1) |\n",
    "                       (trips_df['Date/Time'].dt.month == 2) |\n",
    "                       (trips_df['Date/Time'].dt.month == 3) |\n",
    "                       (trips_df['Date/Time'].dt.month == 12)]"
   ]
  },
  {
   "cell_type": "code",
   "execution_count": 85,
   "metadata": {},
   "outputs": [
    {
     "data": {
      "image/png": "[encoded data removed]",
      "text/plain": [
       "<Figure size 1008x792 with 1 Axes>"
      ]
     },
     "metadata": {
      "needs_background": "light"
     },
     "output_type": "display_data"
    }
   ],
   "source": [
    "#winter weekly averages\n",
    "x = winter.groupby(winter['Date/Time'].dt.isocalendar().week)\n",
    "y = x['Total'].sum()\n",
    "plt.bar(x=y.index, height = y)\n",
    "plt.grid()"
   ]
  },
  {
   "cell_type": "code",
   "execution_count": 86,
   "metadata": {},
   "outputs": [
    {
     "data": {
      "text/plain": [
       "count     16.000000\n",
       "mean     377.172500\n",
       "std      173.850308\n",
       "min      111.790000\n",
       "25%      243.582500\n",
       "50%      357.780000\n",
       "75%      445.685000\n",
       "max      704.140000\n",
       "Name: Total, dtype: float64"
      ]
     },
     "execution_count": 86,
     "metadata": {},
     "output_type": "execute_result"
    }
   ],
   "source": [
    "y.describe()"
   ]
  },
  {
   "cell_type": "code",
   "execution_count": 87,
   "metadata": {},
   "outputs": [
    {
     "data": {
      "text/plain": [
       "0.55"
      ]
     },
     "execution_count": 87,
     "metadata": {},
     "output_type": "execute_result"
    }
   ],
   "source": [
    "#avg earnings per mile on and off trip\n",
    "round(9581.44/17462,2) #total miles driven while working"
   ]
  },
  {
   "cell_type": "code",
   "execution_count": 88,
   "metadata": {},
   "outputs": [
    {
     "data": {
      "text/plain": [
       "count    1855.000000\n",
       "mean        7.413223\n",
       "std         8.094579\n",
       "min         0.000000\n",
       "25%         2.150000\n",
       "50%         4.633333\n",
       "75%        10.050000\n",
       "max       102.333333\n",
       "Name: Distance, dtype: float64"
      ]
     },
     "execution_count": 88,
     "metadata": {},
     "output_type": "execute_result"
    }
   ],
   "source": [
    "#trip mileage\n",
    "trips_df.Distance.describe()/.6"
   ]
  },
  {
   "cell_type": "code",
   "execution_count": 89,
   "metadata": {},
   "outputs": [
    {
     "data": {
      "text/plain": [
       "count    8729.411765\n",
       "mean       13.941828\n",
       "std        10.461780\n",
       "min         0.000000\n",
       "25%         7.215686\n",
       "50%        11.607843\n",
       "75%        17.725490\n",
       "max        98.352941\n",
       "Name: Time, dtype: float64"
      ]
     },
     "execution_count": 89,
     "metadata": {},
     "output_type": "execute_result"
    }
   ],
   "source": [
    "#trip duration\n",
    "trips_df.Time.describe()/7.65*60"
   ]
  },
  {
   "cell_type": "code",
   "execution_count": 90,
   "metadata": {},
   "outputs": [
    {
     "data": {
      "text/plain": [
       "5.01"
      ]
     },
     "execution_count": 90,
     "metadata": {},
     "output_type": "execute_result"
    }
   ],
   "source": [
    "#theoretical average trip: base fare + median distance + median time\n",
    "round(.75 + 7.65*11.608/60 + .6*4.633,2)"
   ]
  },
  {
   "cell_type": "code",
   "execution_count": 91,
   "metadata": {},
   "outputs": [
    {
     "data": {
      "text/plain": [
       "count    266.000000\n",
       "mean       3.005827\n",
       "std        2.199794\n",
       "min        1.000000\n",
       "25%        1.000000\n",
       "50%        3.000000\n",
       "75%        4.000000\n",
       "max       21.860000\n",
       "Name: Tip, dtype: float64"
      ]
     },
     "execution_count": 91,
     "metadata": {},
     "output_type": "execute_result"
    }
   ],
   "source": [
    "#tips\n",
    "trips_df.loc[trips_df.Tip != 0].Tip.describe()"
   ]
  },
  {
   "cell_type": "code",
   "execution_count": 92,
   "metadata": {},
   "outputs": [
    {
     "name": "stdout",
     "output_type": "stream",
     "text": [
      "Sat Aug  8 21:22:41 CDT 2020\r\n"
     ]
    }
   ],
   "source": [
    "!date"
   ]
  }
 ],
 "metadata": {
  "kernelspec": {
   "display_name": "Python 3",
   "language": "python",
   "name": "python3"
  },
  "language_info": {
   "codemirror_mode": {
    "name": "ipython",
    "version": 3
   },
   "file_extension": ".py",
   "mimetype": "text/x-python",
   "name": "python",
   "nbconvert_exporter": "python",
   "pygments_lexer": "ipython3",
   "version": "3.7.7"
  }
 },
 "nbformat": 4,
 "nbformat_minor": 4
}
